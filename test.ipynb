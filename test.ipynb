{
 "cells": [
  {
   "cell_type": "code",
   "execution_count": 1,
   "metadata": {},
   "outputs": [
    {
     "ename": "",
     "evalue": "",
     "output_type": "error",
     "traceback": [
      "\u001b[1;31mThe Kernel crashed while executing code in the current cell or a previous cell. \n",
      "\u001b[1;31mPlease review the code in the cell(s) to identify a possible cause of the failure. \n",
      "\u001b[1;31mClick <a href='https://aka.ms/vscodeJupyterKernelCrash'>here</a> for more info. \n",
      "\u001b[1;31mView Jupyter <a href='command:jupyter.viewOutput'>log</a> for further details."
     ]
    }
   ],
   "source": [
    "import gymnasium as gym\n",
    "import numpy as np\n",
    "\n",
    "\n",
    "env = gym.make('CarRacing-v2', render_mode = 'human')\n",
    "\n",
    "state, _ = env.reset()\n",
    "state = state[:84, 6:90, :]\n",
    "state = np.dot(np.array(state), [0.2989, 0.5870, 0.1140])\n",
    "\n",
    "\n",
    "action = np.array([0,0.2,0])\n",
    "\n",
    "for _ in range(30):\n",
    "    img_rgb, _, done, _, _ = env.step(np.array([0, 0, 0]))\n",
    "     \n",
    "for i in range(1000):\n",
    "    next_state, reward, terminated, truncated, _ = env.step(action)\n",
    "    next_state = next_state[:84, 6:90, :]\n",
    "    \n",
    "    \n",
    "    \n",
    "    \n"
   ]
  }
 ],
 "metadata": {
  "kernelspec": {
   "display_name": "aienv",
   "language": "python",
   "name": "python3"
  },
  "language_info": {
   "codemirror_mode": {
    "name": "ipython",
    "version": 3
   },
   "file_extension": ".py",
   "mimetype": "text/x-python",
   "name": "python",
   "nbconvert_exporter": "python",
   "pygments_lexer": "ipython3",
   "version": "3.11.9"
  }
 },
 "nbformat": 4,
 "nbformat_minor": 2
}
